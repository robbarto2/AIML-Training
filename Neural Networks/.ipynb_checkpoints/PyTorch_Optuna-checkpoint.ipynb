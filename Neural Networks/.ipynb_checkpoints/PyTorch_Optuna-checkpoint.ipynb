{
 "cells": [
  {
   "cell_type": "code",
   "execution_count": null,
   "id": "bc65e868-dfa8-4ac8-9b29-0379f6429572",
   "metadata": {
    "tags": []
   },
   "outputs": [],
   "source": [
    "#Optimizing the NN structure with Pytorch and Optuna, mnist fashion example\n",
    "!pip install optuna torchvision"
   ]
  },
  {
   "cell_type": "code",
   "execution_count": null,
   "id": "b582d3de-aee2-4080-b767-97c9baf00d63",
   "metadata": {
    "tags": []
   },
   "outputs": [],
   "source": [
    "#import the libraries\n",
    "import torchvision.transforms as transforms\n",
    "from torchvision.datasets import MNIST\n",
    "from torch.utils.data import DataLoader"
   ]
  },
  {
   "cell_type": "code",
   "execution_count": null,
   "id": "2e81efff-ec17-49dd-b1d9-fd1ffa375288",
   "metadata": {
    "tags": []
   },
   "outputs": [],
   "source": [
    "import torch as torch\n",
    "import torch.nn as nn\n",
    "import torch.optim as optim"
   ]
  },
  {
   "cell_type": "code",
   "execution_count": null,
   "id": "31166948-1abe-4d97-a90e-1a630f769b73",
   "metadata": {
    "tags": []
   },
   "outputs": [],
   "source": [
    "import optuna"
   ]
  },
  {
   "cell_type": "code",
   "execution_count": null,
   "id": "0df85521-0fbd-4413-8ac6-b7fea994e6c1",
   "metadata": {
    "tags": []
   },
   "outputs": [],
   "source": [
    "#Define the PyTorch model\n",
    "class Net(nn.Module):\n",
    "    def __init__(self, n_units):\n",
    "        super(Net, self).__init__()\n",
    "        self.fc1 = nn.Linear(28*28, n_units)\n",
    "        self.fc2 = nn.Linear(n_units, 10)\n",
    "\n",
    "    def forward(self, x):\n",
    "        x = x.view(x.size(0), -1)\n",
    "        x = torch.relu(self.fc1(x))\n",
    "        x = self.fc2(x)\n",
    "        return x\n"
   ]
  },
  {
   "cell_type": "code",
   "execution_count": null,
   "id": "6d4b34b2-90b4-4df3-bd85-ab2f47e79e68",
   "metadata": {
    "tags": []
   },
   "outputs": [],
   "source": [
    "def objective(trial):\n",
    "    # 1. Load MNIST dataset\n",
    "    transform = transforms.Compose([transforms.ToTensor()])\n",
    "    train_dataset = MNIST('.', train=True, download=True, transform=transform)\n",
    "    test_dataset = MNIST('.', train=False, transform=transform)\n",
    "    train_loader = DataLoader(train_dataset, batch_size=128, shuffle=True)\n",
    "    test_loader = DataLoader(test_dataset, batch_size=128, shuffle=False)\n",
    "\n",
    "    # 2. Define model, optimizer, and criterion\n",
    "    n_units = trial.suggest_int('n_units', 32, 512)\n",
    "    model = Net(n_units)\n",
    "    optimizer_name = trial.suggest_categorical('optimizer', ['Adam', 'SGD'])\n",
    "    lr = trial.suggest_float('lr', 1e-4, 1e-2, log=True)\n",
    "    optimizer = getattr(optim, optimizer_name)(model.parameters(), lr=lr)\n",
    "    criterion = nn.CrossEntropyLoss()\n",
    "\n",
    "    # 3. Train model\n",
    "    for epoch in range(10):\n",
    "        model.train()\n",
    "        for batch_idx, (data, target) in enumerate(train_loader):\n",
    "            optimizer.zero_grad()\n",
    "            output = model(data)\n",
    "            loss = criterion(output, target)\n",
    "            loss.backward()\n",
    "            optimizer.step()\n",
    "\n",
    "    # 4. Evaluate model\n",
    "    model.eval()\n",
    "    correct = 0\n",
    "    with torch.no_grad():\n",
    "        for batch_idx, (data, target) in enumerate(test_loader):\n",
    "            output = model(data)\n",
    "            pred = output.argmax(dim=1, keepdim=True)\n",
    "            correct += pred.eq(target.view_as(pred)).sum().item()\n",
    "\n",
    "    accuracy = correct / len(test_loader.dataset)\n",
    "    return accuracy\n"
   ]
  },
  {
   "cell_type": "code",
   "execution_count": null,
   "id": "5059c2d2-5a95-4fa2-ba0e-cbbe92b42a5a",
   "metadata": {
    "tags": []
   },
   "outputs": [],
   "source": [
    "#Run Optuna on the model\n",
    "study = optuna.create_study(direction='maximize')\n",
    "study.optimize(objective, n_trials=10)\n",
    "\n",
    "print('Number of finished trials: ', len(study.trials))\n",
    "print('Best trial:')\n",
    "trial = study.best_trial\n",
    "print('Value: ', trial.value)\n",
    "print('Params: ')\n",
    "for key, value in trial.params.items():\n",
    "    print(f'    {key}: {value}')\n"
   ]
  },
  {
   "cell_type": "markdown",
   "id": "14d463a1-f63c-4609-85f4-e818e2a90536",
   "metadata": {},
   "source": [
    "# Now that we have the right parameters, we just need to apply them\n",
    "# defining the model:"
   ]
  },
  {
   "cell_type": "code",
   "execution_count": null,
   "id": "c9bc37e7-4fe2-4316-93f6-681dcf595c54",
   "metadata": {
    "tags": []
   },
   "outputs": [],
   "source": [
    "class Net(nn.Module):\n",
    "    def __init__(self, n_units):\n",
    "        super(Net, self).__init__()\n",
    "        self.fc1 = nn.Linear(28*28, n_units)\n",
    "        self.fc2 = nn.Linear(n_units, 10)\n",
    "        \n",
    "    def forward(self, x):\n",
    "        x = x.view(-1, 28*28)\n",
    "        x = torch.relu(self.fc1(x))\n",
    "        x = self.fc2(x)\n",
    "        return x\n",
    "    \n",
    "# using the parameters from Optuna:\n",
    "n_units_optimal = 372\n",
    "model = Net(n_units_optimal)"
   ]
  },
  {
   "cell_type": "code",
   "execution_count": null,
   "id": "b8f4fe95-e700-4be8-b862-783ed8d47b42",
   "metadata": {
    "tags": []
   },
   "outputs": [],
   "source": [
    "#loading the mnist dataset\n",
    "from torchvision.datasets import FashionMNIST\n",
    "transform = transforms.Compose([transforms.ToTensor()])\n",
    "train_dataset = FashionMNIST('.', train=True, download=True, transform=transform)\n",
    "test_dataset = FashionMNIST('.', train=False, transform=transform)\n",
    "train_loader = DataLoader(train_dataset, batch_size=128, shuffle=True)\n",
    "test_loader = DataLoader(test_dataset, batch_size=128, shuffle=False)"
   ]
  },
  {
   "cell_type": "code",
   "execution_count": null,
   "id": "9761d119-0547-4206-bbae-1f7704823e30",
   "metadata": {
    "tags": []
   },
   "outputs": [],
   "source": [
    "#Define the optimizer and loss function using the optimal parameters:\n",
    "lr_optimal = 0.000451910438456066\n",
    "optimizer = optim.Adam(model.parameters(), lr=lr_optimal)\n",
    "criterion = nn.CrossEntropyLoss()"
   ]
  },
  {
   "cell_type": "code",
   "execution_count": null,
   "id": "5c75b39a-5cc8-419f-b4f8-08c73972f620",
   "metadata": {
    "tags": []
   },
   "outputs": [],
   "source": [
    "#Train the model\n",
    "num_epochs = 10\n",
    "for epoch in range(num_epochs):\n",
    "    model.train()\n",
    "    for batch_idx, (data, target) in enumerate(train_loader):\n",
    "        optimizer.zero_grad()\n",
    "        output = model(data)\n",
    "        loss = criterion(output, target)\n",
    "        loss.backward()\n",
    "        optimizer.step()\n",
    "\n",
    "    # Evaluate on the test set\n",
    "    model.eval()\n",
    "    correct = 0\n",
    "    with torch.no_grad():\n",
    "        for batch_idx, (data, target) in enumerate(test_loader):\n",
    "            output = model(data)\n",
    "            pred = output.argmax(dim=1, keepdim=True)\n",
    "            correct += pred.eq(target.view_as(pred)).sum().item()\n",
    "\n",
    "    accuracy = correct / len(test_loader.dataset)\n",
    "    print(f\"Epoch {epoch+1}/{num_epochs}, Accuracy: {accuracy*100:.2f}%\")"
   ]
  },
  {
   "cell_type": "markdown",
   "id": "caad3529-cd6b-470b-8d88-0e90ebb883db",
   "metadata": {},
   "source": [
    "#Exporting the model \n",
    "# First, let's convert the model to a script"
   ]
  },
  {
   "cell_type": "code",
   "execution_count": null,
   "id": "1a994507-2fa2-45ef-bca2-847aaeac8de1",
   "metadata": {
    "tags": []
   },
   "outputs": [],
   "source": [
    "scripted_model = torch.jit.script(model)"
   ]
  },
  {
   "cell_type": "code",
   "execution_count": null,
   "id": "c070a10e-f71f-4535-9e95-79c84cf4dfd5",
   "metadata": {
    "tags": []
   },
   "outputs": [],
   "source": [
    "#Then, let's export it\n",
    "torch.jit.save(scripted_model, \"PTmodel.pt\")"
   ]
  },
  {
   "cell_type": "code",
   "execution_count": null,
   "id": "42f1f276-8239-46b3-ac95-9abb26626c00",
   "metadata": {
    "tags": []
   },
   "outputs": [],
   "source": [
    "#The model can then be loaded and run with:\n",
    "loaded_model = torch.jit.load(\"PTmodel.pt\")\n",
    "output = loaded_model(input_data) # where input_data is the inference source data"
   ]
  },
  {
   "cell_type": "code",
   "execution_count": null,
   "id": "436f375a-3787-48fc-9dc0-6a316c2309a9",
   "metadata": {},
   "outputs": [],
   "source": []
  }
 ],
 "metadata": {
  "kernelspec": {
   "display_name": "Python 3 (ipykernel)",
   "language": "python",
   "name": "python3"
  },
  "language_info": {
   "codemirror_mode": {
    "name": "ipython",
    "version": 3
   },
   "file_extension": ".py",
   "mimetype": "text/x-python",
   "name": "python",
   "nbconvert_exporter": "python",
   "pygments_lexer": "ipython3",
   "version": "3.9.6"
  }
 },
 "nbformat": 4,
 "nbformat_minor": 5
}
