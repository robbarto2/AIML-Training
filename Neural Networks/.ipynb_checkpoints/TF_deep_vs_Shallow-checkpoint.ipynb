{
 "cells": [
  {
   "cell_type": "markdown",
   "id": "a21b8aa7-fa00-4c9e-a3fe-22aab8f41d27",
   "metadata": {},
   "source": [
    "#comparing deep and shallow networks in TF"
   ]
  },
  {
   "cell_type": "code",
   "execution_count": null,
   "id": "d1b98d90-c728-41e7-9633-28f6c1e67018",
   "metadata": {},
   "outputs": [],
   "source": [
    "# import fashion mnist images\n",
    "from keras.datasets import fashion_mnist\n",
    "(train_images, train_labels), (test_images, test_labels) = fashion_mnist.load_data()\n"
   ]
  },
  {
   "cell_type": "code",
   "execution_count": null,
   "id": "5a9e4be0-8d5d-4fa2-ba52-4967ff81772d",
   "metadata": {},
   "outputs": [],
   "source": [
    "#Let's look at what is in the dataset\n",
    "import matplotlib.pyplot as plt\n",
    "plt.figure(figsize=(10, 4))\n",
    "for i in range(10):  # Displaying the first 10 images\n",
    "    plt.subplot(2, 5, i+1)\n",
    "    plt.imshow(train_images[i], cmap='gray')\n",
    "    plt.title(f\"Label: {train_labels[i]}\")\n",
    "    plt.axis('off')\n",
    "plt.tight_layout()\n",
    "plt.show()\n"
   ]
  },
  {
   "cell_type": "code",
   "execution_count": null,
   "id": "c5cedd6b-d2cc-4918-b0f9-9d31f5673706",
   "metadata": {},
   "outputs": [],
   "source": [
    "# Normalize pixel values to be between 0 and 1\n",
    "train_images, test_images = train_images / 255.0, test_images / 255.0\n"
   ]
  },
  {
   "cell_type": "markdown",
   "id": "38773ce6-541d-4987-bba9-ae94802ef767",
   "metadata": {},
   "source": [
    "#train_images"
   ]
  },
  {
   "cell_type": "code",
   "execution_count": null,
   "id": "50e9387a-dbc1-41f9-b9e0-03e2de9f40d9",
   "metadata": {},
   "outputs": [],
   "source": [
    "# the default mode expects RGB images in 256 bits, we use greyscale, so let's expand the images to match the expectations of the model\n",
    "import numpy as np\n",
    "train_images = np.expand_dims(train_images, axis=-1)\n",
    "test_images = np.expand_dims(test_images, axis=-1)\n"
   ]
  },
  {
   "cell_type": "code",
   "execution_count": null,
   "id": "1dee8fd0-0aa3-4270-be0c-8ec5eae2fec4",
   "metadata": {},
   "outputs": [],
   "source": [
    "train_labels"
   ]
  },
  {
   "cell_type": "code",
   "execution_count": null,
   "id": "d7297c2e-ff9f-4a9c-9bfa-f9489137f1c0",
   "metadata": {},
   "outputs": [],
   "source": [
    "# by default, the mnist set has 10 categories (labes = 0 to 9)\n",
    "# It is easier to train if we convert (one hot encoding) each of them to a vector of dimension 10\n",
    "# e.g. convert [0,0,0,0,0,0,0,1,0,0,0] to [0,0],[0,0],...[1,0],[0,1],..\n",
    "from keras.utils import to_categorical\n",
    "train_labels = to_categorical(train_labels)\n",
    "test_labels = to_categorical(test_labels)\n"
   ]
  },
  {
   "cell_type": "code",
   "execution_count": null,
   "id": "4d395d71-4fec-4332-826b-08040b64782c",
   "metadata": {},
   "outputs": [],
   "source": [
    "train_labels"
   ]
  },
  {
   "cell_type": "code",
   "execution_count": null,
   "id": "89e5b626-a902-44bc-98ca-7367ab97ef65",
   "metadata": {},
   "outputs": [],
   "source": [
    "# defining the model: a sequenctial, dense NN, with 1D input of 28x28,\n",
    "#392 neurons for one relu layer, 10 categories out after softmax max probability function\n",
    "\n",
    "from keras.models import Sequential\n",
    "from keras.layers import Dense, Flatten\n",
    "\n",
    "model = Sequential([\n",
    "    Flatten(input_shape=(28, 28, 1)),\n",
    "    Dense(392, activation='relu'),\n",
    "    Dense(10, activation='softmax')\n",
    "])\n"
   ]
  },
  {
   "cell_type": "code",
   "execution_count": null,
   "id": "edda16f9-3d70-45db-b937-5e40ce454d13",
   "metadata": {},
   "outputs": [],
   "source": [
    "#Now let's compile, we use Adam to train backward prop (popular algo for that purpose,\n",
    "# loss as difference between the true labels and the predicted probabilities, 10 epochs\n",
    "import time\n",
    "start_time = time.time()\n",
    "model.compile(optimizer='adam', loss='categorical_crossentropy', metrics=['accuracy'])\n",
    "history1 = model.fit(train_images, train_labels, epochs=10, validation_data=(test_images, test_labels))\n",
    "\n",
    "elapsed_time = time.time() - start_time\n",
    "print(f\"Training took {elapsed_time:.2f} seconds\")"
   ]
  },
  {
   "cell_type": "code",
   "execution_count": null,
   "id": "25946861-7cdb-46dc-b33e-fad54e82371d",
   "metadata": {},
   "outputs": [],
   "source": [
    "import matplotlib.pyplot as plt\n",
    "\n",
    "def plot_learning_curve(history):\n",
    "    # Plot training & validation accuracy values\n",
    "    plt.figure(figsize=(12, 4))\n",
    "    \n",
    "    # Plotting the Accuracy Curve\n",
    "    plt.subplot(1, 2, 1)\n",
    "    plt.plot(history.history['accuracy'])\n",
    "    plt.plot(history.history['val_accuracy'])\n",
    "    plt.title('Model accuracy')\n",
    "    plt.ylabel('Accuracy')\n",
    "    plt.xlabel('Epoch')\n",
    "    plt.legend(['Train', 'Validation'], loc='upper left')\n",
    "    \n",
    "    # Plotting the Loss Curve\n",
    "    plt.subplot(1, 2, 2)\n",
    "    plt.plot(history.history['loss'])\n",
    "    plt.plot(history.history['val_loss'])\n",
    "    plt.title('Model loss')\n",
    "    plt.ylabel('Loss')\n",
    "    plt.xlabel('Epoch')\n",
    "    plt.legend(['Train', 'Validation'], loc='upper left')\n",
    "    \n",
    "    plt.tight_layout()\n",
    "    plt.show()\n",
    "\n",
    "# Assuming you've trained your model as 'history'\n",
    "# history = model.fit(train_images, train_labels, epochs=10, validation_data=(test_images, test_labels))\n",
    "\n",
    "# Now, plot the curves\n",
    "# plot_learning_curve(history)\n"
   ]
  },
  {
   "cell_type": "code",
   "execution_count": null,
   "id": "7602e9f7-3632-4610-8363-b1afdcf677b1",
   "metadata": {},
   "outputs": [],
   "source": [
    "plot_learning_curve(history1)"
   ]
  },
  {
   "cell_type": "markdown",
   "id": "763c79da-6c04-4163-a085-a378d096bc5e",
   "metadata": {},
   "source": []
  },
  {
   "cell_type": "code",
   "execution_count": null,
   "id": "a9d4ea71-f105-4f9b-898b-194e20bb103f",
   "metadata": {},
   "outputs": [],
   "source": [
    "# now let's try a multi layer model instead, 2 layers\n",
    "model_deep = Sequential([\n",
    "    Flatten(input_shape=(28, 28, 1)),\n",
    "    Dense(392, activation='relu'),\n",
    "    Dense(392, activation='relu'),\n",
    "    Dense(10, activation='softmax')\n",
    "])\n"
   ]
  },
  {
   "cell_type": "code",
   "execution_count": null,
   "id": "5f946958-caca-40b0-9530-8bf94e9e9a72",
   "metadata": {},
   "outputs": [],
   "source": [
    "import time\n",
    "start_time = time.time()\n",
    "\n",
    "model_deep.compile(optimizer='adam', loss='categorical_crossentropy', metrics=['accuracy'])\n",
    "history2 = model_deep.fit(train_images, train_labels, epochs=10, validation_data=(test_images, test_labels))\n",
    "\n",
    "elapsed_time = time.time() - start_time\n",
    "print(f\"Training took {elapsed_time:.2f} seconds\")"
   ]
  },
  {
   "cell_type": "code",
   "execution_count": null,
   "id": "5e30d644-cfbf-48ab-8756-07ac1618facb",
   "metadata": {},
   "outputs": [],
   "source": [
    "#Let's plot the multi layer model\n",
    "plot_learning_curve(history2)"
   ]
  },
  {
   "cell_type": "code",
   "execution_count": null,
   "id": "43aae2df-befb-4e3a-8d05-ab265ef09fd0",
   "metadata": {},
   "outputs": [],
   "source": [
    "#Let's compare performances, first by the numbers\n",
    "# For the single-layer model\n",
    "test_loss, test_acc = model.evaluate(test_images, test_labels)\n",
    "print('Single-layer model accuracy:', test_acc)\n",
    "\n",
    "# For the multi-layer model\n",
    "test_loss_deep, test_acc_deep = model_deep.evaluate(test_images, test_labels)\n",
    "print('Multi-layer model accuracy:', test_acc_deep)"
   ]
  },
  {
   "cell_type": "code",
   "execution_count": null,
   "id": "8f82f37d-e68e-4953-af10-7f95ee26f64b",
   "metadata": {},
   "outputs": [],
   "source": [
    "# Now let's plot them side by side, and see that in this particular case,\n",
    "# having multiple layers does not bring much\n",
    "import matplotlib.pyplot as plt\n",
    "\n",
    "def plot_comparison(history1, history2, title):\n",
    "    plt.figure(figsize=(14, 5))\n",
    "\n",
    "    # Plotting the Accuracy Curve\n",
    "    plt.subplot(1, 2, 1)\n",
    "    plt.plot(history1.history['accuracy'], label='Single Layer - Training Accuracy', linestyle='--')\n",
    "    plt.plot(history1.history['val_accuracy'], label='Single Layer - Validation Accuracy', linestyle='--')\n",
    "    plt.plot(history2.history['accuracy'], label='Multi Layer - Training Accuracy')\n",
    "    plt.plot(history2.history['val_accuracy'], label='Multi Layer - Validation Accuracy')\n",
    "    plt.title(title + ' - Accuracy')\n",
    "    plt.xlabel('Epoch')\n",
    "    plt.ylabel('Accuracy')\n",
    "    plt.legend()\n",
    "\n",
    "    # Plotting the Loss Curve\n",
    "    plt.subplot(1, 2, 2)\n",
    "    plt.plot(history1.history['loss'], label='Single Layer - Training Loss', linestyle='--')\n",
    "    plt.plot(history1.history['val_loss'], label='Single Layer - Validation Loss', linestyle='--')\n",
    "    plt.plot(history2.history['loss'], label='Multi Layer - Training Loss')\n",
    "    plt.plot(history2.history['val_loss'], label='Multi Layer - Validation Loss')\n",
    "    plt.title(title + ' - Loss')\n",
    "    plt.xlabel('Epoch')\n",
    "    plt.ylabel('Loss')\n",
    "    plt.legend()\n",
    "\n",
    "    plt.tight_layout()\n",
    "    plt.show()\n",
    "\n",
    "# Call the function\n",
    "plot_comparison(history1, history2, 'Model Comparison')\n"
   ]
  },
  {
   "cell_type": "markdown",
   "id": "cba68dcd-59c1-4b1f-9aaf-936f9e7da8bb",
   "metadata": {},
   "source": []
  },
  {
   "cell_type": "code",
   "execution_count": null,
   "id": "9768f3ca-a6e9-4902-b3c9-ad6ed6d80c26",
   "metadata": {},
   "outputs": [],
   "source": [
    "#Now that the best model is found, we can save it to h5 format:\n",
    "model.save('my_model.h5') #we save 'model', because 'model_deep' was not better\n"
   ]
  },
  {
   "cell_type": "code",
   "execution_count": null,
   "id": "81d3e773-7e4d-4b71-9120-61b0123dc350",
   "metadata": {},
   "outputs": [],
   "source": [
    "# We can load the model back with:\n",
    "from tensorflow.keras.models import load_model\n",
    "\n",
    "loaded_model = load_model('my_model.h5')\n"
   ]
  },
  {
   "cell_type": "markdown",
   "id": "40b77601-4527-4630-8d4f-f1804a8ba510",
   "metadata": {},
   "source": []
  },
  {
   "cell_type": "code",
   "execution_count": null,
   "id": "d8b253df-757e-41b1-8782-2cc3a3faaa3e",
   "metadata": {},
   "outputs": [],
   "source": [
    "#Exporting for tflite\n",
    "import tensorflow as tf\n",
    "#model = tf.keras.models.load_model('path_to_your_model.h5') # if the model was not already loaded\n",
    "# Initialize the TFLite converter\n",
    "converter = tf.lite.TFLiteConverter.from_keras_model(model)\n",
    "\n",
    "# Convert the model\n",
    "tflite_model = converter.convert()\n",
    "\n"
   ]
  },
  {
   "cell_type": "code",
   "execution_count": null,
   "id": "42a6735f-35ad-4500-9389-26fa502847c7",
   "metadata": {},
   "outputs": [],
   "source": [
    "# Save model to a file\n",
    "with open('model.tflite', 'wb') as f:\n",
    "    f.write(tflite_model)\n"
   ]
  },
  {
   "cell_type": "code",
   "execution_count": null,
   "id": "95f365a8-ef9d-4777-af7e-2b22e390bd48",
   "metadata": {},
   "outputs": [],
   "source": []
  }
 ],
 "metadata": {
  "kernelspec": {
   "display_name": "Python 3 (ipykernel)",
   "language": "python",
   "name": "python3"
  },
  "language_info": {
   "codemirror_mode": {
    "name": "ipython",
    "version": 3
   },
   "file_extension": ".py",
   "mimetype": "text/x-python",
   "name": "python",
   "nbconvert_exporter": "python",
   "pygments_lexer": "ipython3",
   "version": "3.9.6"
  }
 },
 "nbformat": 4,
 "nbformat_minor": 5
}
