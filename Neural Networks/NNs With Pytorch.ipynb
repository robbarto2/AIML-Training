{
 "cells": [
  {
   "cell_type": "code",
   "execution_count": null,
   "id": "9323b7e8-57d1-4c8b-bb5b-e3f1303edbca",
   "metadata": {
    "tags": []
   },
   "outputs": [],
   "source": [
    "import torch\n",
    "import torch.nn as nn\n",
    "import torch.optim as optim\n",
    "\n",
    "# Sample data\n",
    "X = torch.tensor([1, 2, 3, 4], dtype=torch.float32).view(-1, 1)\n",
    "y = torch.tensor([2, 4, 6, 8], dtype=torch.float32).view(-1, 1)\n",
    "\n",
    "# Define a simple linear model\n",
    "class LinearRegression(nn.Module):\n",
    "    def __init__(self):\n",
    "        super(LinearRegression, self).__init__()\n",
    "        self.linear = nn.Linear(1, 1)\n",
    "\n",
    "    def forward(self, x):\n",
    "        return self.linear(x)\n",
    "\n",
    "model = LinearRegression()\n",
    "\n",
    "# Loss and optimizer\n",
    "criterion = nn.MSELoss()\n",
    "optimizer = optim.SGD(model.parameters(), lr=0.01)\n",
    "\n",
    "# Train the model\n",
    "for epoch in range(100):\n",
    "    # Forward pass\n",
    "    outputs = model(X)\n",
    "    loss = criterion(outputs, y)\n",
    "    \n",
    "    # Backward pass and optimization\n",
    "    optimizer.zero_grad()\n",
    "    loss.backward()\n",
    "    optimizer.step()\n",
    "\n",
    "# Predict\n",
    "print(model(torch.tensor([5.0]).view(-1, 1)))\n"
   ]
  },
  {
   "cell_type": "code",
   "execution_count": null,
   "id": "44c10ca5-6423-443c-9eac-a52916f4a189",
   "metadata": {
    "tags": []
   },
   "outputs": [],
   "source": [
    "# Predict\n",
    "with torch.no_grad():\n",
    "    predictions = model(X).numpy()\n",
    "\n",
    "import matplotlib.pyplot as plt\n",
    "# Plot\n",
    "plt.scatter(X.numpy(), y.numpy(), color='blue', label='Data Points')\n",
    "plt.plot(X.numpy(), predictions, color='red', label='Regression Line')\n",
    "plt.xlabel('X')\n",
    "plt.ylabel('y')\n",
    "plt.legend()\n",
    "plt.title('PyTorch Linear Regression')\n",
    "plt.show()\n"
   ]
  },
  {
   "cell_type": "markdown",
   "id": "5fef79f3-be77-4dde-b632-e111cfdedae1",
   "metadata": {},
   "source": [
    "# Example where Pytorch is simpler than tf"
   ]
  },
  {
   "cell_type": "code",
   "execution_count": null,
   "id": "de1f011f-1ac1-4368-8964-8680c4cbd799",
   "metadata": {},
   "outputs": [],
   "source": [
    "import time\n",
    "start_time = time.time()\n",
    "import torch\n",
    "import torch.nn as nn\n",
    "import torch.optim as optim\n",
    "\n",
    "# Sample data\n",
    "X = torch.tensor([[1.], [2.], [3.], [4.]])\n",
    "y = 2 * X + 1\n",
    "\n",
    "# Simple linear model\n",
    "model = nn.Linear(1, 1)\n",
    "criterion = nn.MSELoss()\n",
    "optimizer = optim.SGD(model.parameters(), lr=0.01)\n",
    "\n",
    "# Custom training loop\n",
    "num_epochs = 100\n",
    "loss_threshold = 0.1\n",
    "for epoch in range(num_epochs):\n",
    "    # Forward pass\n",
    "    outputs = model(X)\n",
    "    loss = criterion(outputs, y)\n",
    "    \n",
    "    # Backward pass and optimization\n",
    "    optimizer.zero_grad()\n",
    "    loss.backward()\n",
    "    optimizer.step()\n",
    "    \n",
    "    # Dynamic data modification based on loss\n",
    "    if loss.item() < loss_threshold:\n",
    "        X *= 1.5\n",
    "\n",
    "    # Print loss every 20 epochs\n",
    "    if epoch % 20 == 0:\n",
    "        print(f'Epoch [{epoch+1}/{num_epochs}], Loss: {loss.item():.4f}')\n",
    "\n",
    "end_time = time.time()\n",
    "elapsed_time = end_time - start_time\n",
    "print(f\"Execution time: {elapsed_time:.2f} seconds\")"
   ]
  }
 ],
 "metadata": {
  "kernelspec": {
   "display_name": "Python 3 (ipykernel)",
   "language": "python",
   "name": "python3"
  },
  "language_info": {
   "codemirror_mode": {
    "name": "ipython",
    "version": 3
   },
   "file_extension": ".py",
   "mimetype": "text/x-python",
   "name": "python",
   "nbconvert_exporter": "python",
   "pygments_lexer": "ipython3",
   "version": "3.9.6"
  }
 },
 "nbformat": 4,
 "nbformat_minor": 5
}
