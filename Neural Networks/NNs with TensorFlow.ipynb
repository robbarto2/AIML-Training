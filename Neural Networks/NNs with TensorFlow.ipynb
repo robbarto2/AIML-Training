{
 "cells": [
  {
   "cell_type": "code",
   "execution_count": null,
   "id": "e2c932e8-5178-4956-9ddd-663e01f46eb8",
   "metadata": {},
   "outputs": [],
   "source": [
    "import numpy as np\n",
    "import tensorflow as tf\n",
    "\n",
    "# Sample data\n",
    "X = np.array([1, 2, 3, 4], dtype=float)\n",
    "y = np.array([2, 4, 6, 8], dtype=float)\n",
    "\n",
    "# Define a simple linear model\n",
    "model = tf.keras.Sequential([tf.keras.layers.Dense(units=1, input_shape=[1])])\n",
    "\n",
    "# Compile the model\n",
    "model.compile(optimizer='sgd', loss='mean_squared_error')\n",
    "\n",
    "# Train the model\n",
    "model.fit(X, y, epochs=100)\n",
    "\n",
    "# Predict\n",
    "print(model.predict([5.0]))\n"
   ]
  },
  {
   "cell_type": "code",
   "execution_count": null,
   "id": "5dff81d9-f461-459a-96db-3298d4c2d7b7",
   "metadata": {},
   "outputs": [],
   "source": [
    "# Predict\n",
    "predictions = model.predict(X)\n",
    "\n",
    "import matplotlib.pyplot as plt\n",
    "# Plot\n",
    "plt.scatter(X, y, color='blue', label='Data Points')\n",
    "plt.plot(X, predictions, color='red', label='Regression Line')\n",
    "plt.xlabel('X')\n",
    "plt.ylabel('y')\n",
    "plt.legend()\n",
    "plt.title('TensorFlow Linear Regression')\n",
    "plt.show()\n"
   ]
  },
  {
   "cell_type": "markdown",
   "id": "4aeb5bf1-cfeb-4602-94da-35718bcf56e6",
   "metadata": {},
   "source": [
    "#Example where pythorch is easier"
   ]
  },
  {
   "cell_type": "code",
   "execution_count": null,
   "id": "b3a28d88-1586-4fc3-adf3-022304ee8775",
   "metadata": {},
   "outputs": [],
   "source": [
    "import time\n",
    "start_time = time.time()\n",
    "import tensorflow as tf\n",
    "\n",
    "# Sample data\n",
    "X = tf.Variable([[1.], [2.], [3.], [4.]])\n",
    "y = 2 * X + 1\n",
    "\n",
    "# Simple linear model\n",
    "model = tf.keras.Sequential([tf.keras.layers.Dense(units=1, input_shape=(1,))])\n",
    "optimizer = tf.keras.optimizers.SGD(learning_rate=0.01)\n",
    "loss_fn = tf.keras.losses.MSE\n",
    "\n",
    "# Custom training loop\n",
    "num_epochs = 100\n",
    "loss_threshold = 0.1\n",
    "for epoch in range(num_epochs):\n",
    "    with tf.GradientTape() as tape:\n",
    "        outputs = model(X)\n",
    "        loss = loss_fn(y, outputs)\n",
    "    \n",
    "    gradients = tape.gradient(loss, model.trainable_variables)\n",
    "    optimizer.apply_gradients(zip(gradients, model.trainable_variables))\n",
    "    \n",
    "    # Dynamic data modification based on loss\n",
    " \n",
    "    if tf.reduce_mean(loss) < loss_threshold:\n",
    "        X.assign(X * 1.5)\n",
    "\n",
    "    # Print loss every 20 epochs\n",
    "    if epoch % 20 == 0:\n",
    "        scalar_loss = tf.reduce_mean(loss).numpy()\n",
    "        print(f'Epoch [{epoch+1}/{num_epochs}], Loss: {scalar_loss:.4f}')\n",
    "\n",
    "end_time = time.time()\n",
    "elapsed_time = end_time - start_time\n",
    "print(f\"Execution time: {elapsed_time:.2f} seconds\")"
   ]
  }
 ],
 "metadata": {
  "kernelspec": {
   "display_name": "Python 3 (ipykernel)",
   "language": "python",
   "name": "python3"
  },
  "language_info": {
   "codemirror_mode": {
    "name": "ipython",
    "version": 3
   },
   "file_extension": ".py",
   "mimetype": "text/x-python",
   "name": "python",
   "nbconvert_exporter": "python",
   "pygments_lexer": "ipython3",
   "version": "3.9.6"
  }
 },
 "nbformat": 4,
 "nbformat_minor": 5
}
