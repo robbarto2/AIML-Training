{
 "cells": [
  {
   "cell_type": "code",
   "execution_count": 1,
   "id": "73e64896-d72f-4eba-ba8e-fae8c834f881",
   "metadata": {},
   "outputs": [
    {
     "name": "stdout",
     "output_type": "stream",
     "text": [
      "X_train shape: 4\n",
      "X_test shape: 1\n",
      "y_train shape: 4\n",
      "y_test shape: 1\n"
     ]
    }
   ],
   "source": [
    "from sklearn.model_selection import train_test_split\n",
    "\n",
    "# Sample data (for demonstration purposes)\n",
    "X = [[1, 2], [3, 4], [5, 6], [7, 8], [9, 10]]\n",
    "y = [0, 1, 0, 1, 0]\n",
    "\n",
    "X_train, X_test, y_train, y_test = train_test_split(X, y, test_size=0.2, random_state=42)\n",
    "\n",
    "# Print the shapes of the resulting subsets\n",
    "print(\"X_train shape:\", len(X_train))\n",
    "print(\"X_test shape:\", len(X_test))\n",
    "print(\"y_train shape:\", len(y_train))\n",
    "print(\"y_test shape:\", len(y_test))\n"
   ]
  },
  {
   "cell_type": "code",
   "execution_count": 5,
   "id": "27b0ce24-663e-4f66-8af2-4fdca8db07ab",
   "metadata": {},
   "outputs": [],
   "source": [
    "import numpy as np\n",
    "import matplotlib.pyplot as plt\n",
    "\n",
    "# Generate random noise\n",
    "noise = np.random.normal(0, 0.5, size=4)  # mean=0, standard deviation=0.5, size=4\n",
    "\n",
    "# Sample data with noise\n",
    "X = np.array([1, 2, 3, 4]).reshape(-1, 1)\n",
    "y = np.array([2, 4, 6, 8]) + noise\n"
   ]
  },
  {
   "cell_type": "code",
   "execution_count": 6,
   "id": "eabc8dbe-3125-4e56-8ddd-fb2c7580b838",
   "metadata": {},
   "outputs": [
    {
     "data": {
      "image/png": "[encoded data removed]",
      "text/plain": [
       "<Figure size 432x288 with 1 Axes>"
      ]
     },
     "metadata": {
      "needs_background": "light"
     },
     "output_type": "display_data"
    }
   ],
   "source": [
    "# Plot\n",
    "plt.scatter(X, y, color='blue', label='Noisy Data Points')\n",
    "plt.xlabel('X')\n",
    "plt.ylabel('y')\n",
    "plt.legend()\n",
    "plt.title('Noisy Data')\n",
    "plt.show()"
   ]
  },
  {
   "cell_type": "code",
   "execution_count": 7,
   "id": "eecd5dcf-ebe3-43ce-94a0-08355e2d819c",
   "metadata": {},
   "outputs": [
    {
     "data": {
      "image/png": "[encoded data removed]",
      "text/plain": [
       "<Figure size 432x288 with 1 Axes>"
      ]
     },
     "metadata": {
      "needs_background": "light"
     },
     "output_type": "display_data"
    }
   ],
   "source": [
    "from sklearn.linear_model import LinearRegression\n",
    "\n",
    "# Define and train the model with noisy data\n",
    "model = LinearRegression().fit(X, y)\n",
    "\n",
    "# Predict\n",
    "predictions = model.predict(X)\n",
    "\n",
    "# Plot\n",
    "plt.scatter(X, y, color='blue', label='Noisy Data Points')\n",
    "plt.plot(X, predictions, color='red', label='Regression Line')\n",
    "plt.xlabel('X')\n",
    "plt.ylabel('y')\n",
    "plt.legend()\n",
    "plt.title('Scikit-learn Linear Regression with Noisy Data')\n",
    "plt.show()"
   ]
  },
  {
   "cell_type": "code",
   "execution_count": 8,
   "id": "fa007e04-f83a-4c2a-bb37-4cf5e39920c9",
   "metadata": {},
   "outputs": [
    {
     "name": "stdout",
     "output_type": "stream",
     "text": [
      "Coefficients: [2.06210473]\n",
      "Intercept: 0.16696939462198213\n"
     ]
    }
   ],
   "source": [
    "# Accessing model parameters\n",
    "print(\"Coefficients:\", model.coef_)\n",
    "print(\"Intercept:\", model.intercept_)"
   ]
  },
  {
   "cell_type": "code",
   "execution_count": 9,
   "id": "4fbb9fc3-f093-44ee-b305-c561990b51f0",
   "metadata": {},
   "outputs": [
    {
     "name": "stdout",
     "output_type": "stream",
     "text": [
      "Coefficients: [1.63492895]\n",
      "Intercept: 0.8929446913496317\n",
      "\n",
      "Mean Absolute Error (MAE): 0.7700273537848856\n",
      "Mean Squared Error (MSE): 0.6453870746696255\n",
      "R-squared: 0.8381120359760518\n"
     ]
    }
   ],
   "source": [
    "from sklearn.linear_model import LinearRegression\n",
    "from sklearn.metrics import mean_absolute_error, mean_squared_error, r2_score\n",
    "\n",
    "# Sample data with noise (as previously defined)\n",
    "X = np.array([1, 2, 3, 4]).reshape(-1, 1)\n",
    "y = np.array([2, 4, 6, 8]) + np.random.normal(0, 0.5, size=4)\n",
    "\n",
    "# Train the model\n",
    "model = LinearRegression().fit(X, y)\n",
    "\n",
    "# Predict\n",
    "y_pred = model.predict(X)\n",
    "\n",
    "# Accessing model parameters\n",
    "print(\"Coefficients:\", model.coef_)\n",
    "print(\"Intercept:\", model.intercept_)\n",
    "\n",
    "# Evaluating model performance\n",
    "mae = mean_absolute_error(y, y_pred)\n",
    "mse = mean_squared_error(y, y_pred)\n",
    "r2 = r2_score(y, y_pred)\n",
    "\n",
    "print(\"\\nMean Absolute Error (MAE):\", mae)\n",
    "print(\"Mean Squared Error (MSE):\", mse)\n",
    "print(\"R-squared:\", r2)\n"
   ]
  },
  {
   "cell_type": "code",
   "execution_count": 10,
   "id": "57154ec1-e002-449b-ab71-9863e13d04ba",
   "metadata": {},
   "outputs": [
    {
     "name": "stdout",
     "output_type": "stream",
     "text": [
      "\n",
      "Mean Absolute Error (MAE): 0.7700273537848856\n"
     ]
    }
   ],
   "source": [
    "from sklearn.metrics import mean_absolute_error\n",
    "mae = mean_absolute_error(y, y_pred)\n",
    "print(\"\\nMean Absolute Error (MAE):\", mae)"
   ]
  },
  {
   "cell_type": "code",
   "execution_count": 11,
   "id": "43c2cfa2-56a5-4388-abac-8a97f9b46cbd",
   "metadata": {},
   "outputs": [
    {
     "name": "stdout",
     "output_type": "stream",
     "text": [
      "Mean Squared Error (MSE): 0.6453870746696255\n"
     ]
    }
   ],
   "source": [
    "from sklearn.metrics import mean_squared_error\n",
    "mse = mean_squared_error(y, y_pred)\n",
    "print(\"Mean Squared Error (MSE):\", mse)"
   ]
  },
  {
   "cell_type": "code",
   "execution_count": 12,
   "id": "e32039ce-b891-438f-9800-22d0b738fced",
   "metadata": {},
   "outputs": [
    {
     "name": "stdout",
     "output_type": "stream",
     "text": [
      "R-squared: 0.8381120359760518\n"
     ]
    }
   ],
   "source": [
    "from sklearn.metrics import r2_score\n",
    "r2 = r2_score(y, y_pred)\n",
    "print(\"R-squared:\", r2)"
   ]
  },
  {
   "cell_type": "code",
   "execution_count": null,
   "id": "df848c78-ca11-4ee9-9a01-97e37ee0f257",
   "metadata": {},
   "outputs": [],
   "source": [
    "\n"
   ]
  },
  {
   "cell_type": "code",
   "execution_count": 13,
   "id": "0d893a8a-63d6-431b-8594-8d10e8796624",
   "metadata": {},
   "outputs": [],
   "source": [
    "# Random Forest Example\n"
   ]
  },
  {
   "cell_type": "code",
   "execution_count": 19,
   "id": "a3771876-12ab-444f-96b4-6004f764facf",
   "metadata": {},
   "outputs": [],
   "source": [
    "from sklearn.ensemble import RandomForestClassifier\n",
    "from sklearn.datasets import make_classification"
   ]
  },
  {
   "cell_type": "code",
   "execution_count": 24,
   "id": "64e8d241-b85e-48c3-a6c5-3c96737b75a6",
   "metadata": {},
   "outputs": [
    {
     "name": "stdout",
     "output_type": "stream",
     "text": [
      "    Fruit  Weight (grams) Texture\n",
      "0   Apple             150  Smooth\n",
      "1   Apple             170  Smooth\n",
      "2  Orange             130   Bumpy\n",
      "3  Orange             140   Bumpy\n"
     ]
    }
   ],
   "source": [
    "import pandas as pd\n",
    "# Sample data\n",
    "data = {\n",
    "    'Fruit': ['Apple', 'Apple', 'Orange', 'Orange'],\n",
    "    'Weight (grams)': [150, 170, 130, 140],\n",
    "    'Texture': ['Smooth', 'Smooth', 'Bumpy', 'Bumpy']\n",
    "}\n",
    "\n",
    "# Create a DataFrame out of it\n",
    "df = pd.DataFrame(data)\n",
    "\n",
    "# Display the DataFrame\n",
    "print(df)"
   ]
  },
  {
   "cell_type": "code",
   "execution_count": 25,
   "id": "14cd1b91-a870-4495-b853-ddb23f8b5319",
   "metadata": {},
   "outputs": [],
   "source": [
    "# We can use df, it is also easy to create the data on the fly:\n",
    "X = [[150, 1], [170, 1], [130, 0], [140, 0]]  # Features: Weight and Texture\n",
    "y = ['Apple', 'Apple', 'Orange', 'Orange']   # Labels: Fruit names"
   ]
  },
  {
   "cell_type": "code",
   "execution_count": 26,
   "id": "29354a88-b940-4c71-bbbd-832f2cfa9c9a",
   "metadata": {},
   "outputs": [],
   "source": [
    "# Create a Random Forest Classifier\n",
    "clf = RandomForestClassifier(n_estimators=10)"
   ]
  },
  {
   "cell_type": "code",
   "execution_count": 27,
   "id": "c48d4e1d-7aac-494f-87ab-681091d83017",
   "metadata": {},
   "outputs": [
    {
     "data": {
      "text/plain": [
       "RandomForestClassifier(n_estimators=10)"
      ]
     },
     "execution_count": 27,
     "metadata": {},
     "output_type": "execute_result"
    }
   ],
   "source": [
    "# Train the classifier with the data\n",
    "clf.fit(X, y)"
   ]
  },
  {
   "cell_type": "code",
   "execution_count": 28,
   "id": "7c574ea9-4877-4be2-84f3-5c7483049153",
   "metadata": {},
   "outputs": [
    {
     "name": "stdout",
     "output_type": "stream",
     "text": [
      "['Apple']\n"
     ]
    }
   ],
   "source": [
    "# Predict the fruit for a new data point: Weight=160g, Texture=Smooth\n",
    "predicted_fruit = clf.predict([[160, 1]])\n",
    "print(predicted_fruit)  # This might output 'Apple' since the weight and texture are closer to an apple's characteristics."
   ]
  },
  {
   "cell_type": "code",
   "execution_count": null,
   "id": "076042eb-54f9-46e8-8408-35307be6dc7f",
   "metadata": {},
   "outputs": [],
   "source": []
  },
  {
   "cell_type": "code",
   "execution_count": null,
   "id": "8ad9d975-b493-44ec-a154-8c05f6b0fa75",
   "metadata": {},
   "outputs": [],
   "source": []
  },
  {
   "cell_type": "code",
   "execution_count": null,
   "id": "e47d2d08-d02d-4153-86ea-a2dd70beb8fb",
   "metadata": {},
   "outputs": [],
   "source": []
  },
  {
   "cell_type": "code",
   "execution_count": null,
   "id": "3f3eff30-6852-4352-8b24-4b090cd7ac79",
   "metadata": {},
   "outputs": [],
   "source": []
  },
  {
   "cell_type": "code",
   "execution_count": null,
   "id": "c36d4f08-557a-4298-ba92-86e58f5456f5",
   "metadata": {},
   "outputs": [],
   "source": []
  },
  {
   "cell_type": "code",
   "execution_count": null,
   "id": "332db47c-f799-4579-a1fa-0d742448d026",
   "metadata": {},
   "outputs": [],
   "source": []
  },
  {
   "cell_type": "code",
   "execution_count": null,
   "id": "81edb837-b8f3-418d-bf83-2cc899e54841",
   "metadata": {},
   "outputs": [],
   "source": []
  },
  {
   "cell_type": "code",
   "execution_count": null,
   "id": "89bc91c4-a93a-4135-8159-c64908374a21",
   "metadata": {},
   "outputs": [],
   "source": []
  },
  {
   "cell_type": "code",
   "execution_count": null,
   "id": "e4be32df-571f-40f4-b062-68a095ecc2c8",
   "metadata": {},
   "outputs": [],
   "source": [
    "\n"
   ]
  },
  {
   "cell_type": "code",
   "execution_count": null,
   "id": "c964c1f4-c719-40b4-b314-9f7c6b233783",
   "metadata": {},
   "outputs": [],
   "source": [
    "\n"
   ]
  },
  {
   "cell_type": "code",
   "execution_count": null,
   "id": "8b0737d4-3064-4b1e-b4bf-2ce817df39c0",
   "metadata": {},
   "outputs": [],
   "source": []
  },
  {
   "cell_type": "code",
   "execution_count": null,
   "id": "fbbe3a35-5001-4de0-b5e1-cdf50e52bc70",
   "metadata": {},
   "outputs": [],
   "source": []
  },
  {
   "cell_type": "code",
   "execution_count": null,
   "id": "d68396e1-9e0a-409b-9dcd-b55b2bac3b08",
   "metadata": {},
   "outputs": [],
   "source": []
  },
  {
   "cell_type": "code",
   "execution_count": null,
   "id": "b0675c84-507d-4a78-b8db-ca72cd6de4e9",
   "metadata": {},
   "outputs": [],
   "source": []
  },
  {
   "cell_type": "code",
   "execution_count": null,
   "id": "04a04cf4-f133-4db3-8a32-6ae442829f05",
   "metadata": {},
   "outputs": [],
   "source": []
  },
  {
   "cell_type": "code",
   "execution_count": null,
   "id": "fbe4a8df-8bba-446e-92b5-80c8a458c3eb",
   "metadata": {},
   "outputs": [],
   "source": []
  },
  {
   "cell_type": "code",
   "execution_count": null,
   "id": "76f3b41c-55e4-4cdf-afe3-052320144bd2",
   "metadata": {},
   "outputs": [],
   "source": []
  },
  {
   "cell_type": "code",
   "execution_count": null,
   "id": "7526b05a-40cf-4ce9-b258-bf4a66ce8dcc",
   "metadata": {},
   "outputs": [],
   "source": []
  }
 ],
 "metadata": {
  "kernelspec": {
   "display_name": "Python 3 (ipykernel)",
   "language": "python",
   "name": "python3"
  },
  "language_info": {
   "codemirror_mode": {
    "name": "ipython",
    "version": 3
   },
   "file_extension": ".py",
   "mimetype": "text/x-python",
   "name": "python",
   "nbconvert_exporter": "python",
   "pygments_lexer": "ipython3",
   "version": "3.9.7"
  }
 },
 "nbformat": 4,
 "nbformat_minor": 5
}
